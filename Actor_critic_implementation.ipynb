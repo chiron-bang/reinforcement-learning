{
  "cells": [
    {
      "cell_type": "markdown",
      "source": [
        "**Actor critic implementation: Case of the Maze world**\n",
        "\n",
        "**Author**: Chiron Bang\n",
        "\n",
        "**Contact:** [Twitter](https://twitter.com/chiron_bang), [Email](mailto:chironbang@gmail.com) (Don't hesitate to reach out may you have any question or comment ;) \\) \n",
        "\n",
        "**Date created**: 04/11/2022\n",
        "\n",
        "**Last modified**: 04/28/2022\n",
        "Adapted from the CartPole example: https://keras.io/examples/rl/actor_critic_cartpole/"
      ],
      "metadata": {
        "id": "cJPImKMoQl6Y"
      }
    },
    {
      "cell_type": "markdown",
      "metadata": {
        "id": "d_E0Lam56RUe"
      },
      "source": [
        "**Imports**\n"
      ]
    },
    {
      "cell_type": "code",
      "execution_count": null,
      "metadata": {
        "id": "NPqj9oJo7Q4e"
      },
      "outputs": [],
      "source": [
        "import numpy as np\n",
        "import tensorflow as tf\n",
        "import matplotlib.pyplot as plt\n",
        "import matplotlib.patches as patches"
      ]
    },
    {
      "cell_type": "markdown",
      "metadata": {
        "id": "150e3-JJ636X"
      },
      "source": [
        "# Initialization"
      ]
    },
    {
      "cell_type": "markdown",
      "metadata": {
        "id": "QqFVPsTxPY0w"
      },
      "source": [
        "<!-- Modifications à apporter:\n",
        "\n",
        "\n",
        "1.   Change the representation of the state to 1 for agent, -1 for obstacles, 10 for goal state and 0 for any other cell\n",
        "2.   Change the code so that the model gets updated after one step\n",
        "3. Use a larger model\n",
        "\n",
        "Problèmes rencontrés:\n",
        "\n",
        "- Mon loss function est négatif. Est-ce normal?\n",
        "- Quand j'utilise le loss négatif, je réussis à trouver le good policy but the V values are wrong. \n",
        "- Avec le loss positif j'ai des difficultés à bien entrainer mon modèle -->\n"
      ]
    },
    {
      "cell_type": "code",
      "execution_count": null,
      "metadata": {
        "id": "_XNpN8uE8rp0"
      },
      "outputs": [],
      "source": [
        "# Parameters setup\n",
        "gamma = 0.90  # Discount factor for past rewards\n",
        "maze_size = (10,10)\n",
        "start = (1,0)\n",
        "goal = (9,8)\n",
        "num_states = maze_size[0] * maze_size[1]\n",
        "num_actions = 4\n",
        "max_steps_per_episode = 10_000\n",
        "n_obstacles = 20\n",
        "LEFT, RIGHT, UP, DOWN = 0, 1, 2, 3 # Moving Left, Right, Up, down\n",
        "\n",
        "\n",
        "# Start and goal state\n",
        "start_state = np.zeros(maze_size)\n",
        "goal_state = np.zeros(maze_size)\n",
        "\n",
        "start_state[start] = 1\n",
        "goal_state[goal] = 1\n",
        "\n",
        "# Flattening the matrix to obtain a vector\n",
        "start_state = start_state.flatten()\n",
        "goal_state = goal_state.flatten()\n",
        "\n",
        "# Creating the maze \n",
        "maze = np.zeros(maze_size)\n",
        "maze[goal] = 10 # The goal cell is represented by 10 in the maze"
      ]
    },
    {
      "cell_type": "markdown",
      "source": [
        "# Utility functions"
      ],
      "metadata": {
        "id": "hWNW-FHfXoU5"
      }
    },
    {
      "cell_type": "code",
      "execution_count": null,
      "metadata": {
        "id": "wxZTKAtQJ-Ug"
      },
      "outputs": [],
      "source": [
        "def generate_obstacles(n_obstacles, seed):\n",
        "    \"\"\"\n",
        "    Generates obstacles at random positions in the maze.\n",
        "    n_obstacles: The number ofobstacles in the maze.\n",
        "    seed: A number to set the random seed \n",
        "    Returns a list of obstacles (list of tuples)\n",
        "    \"\"\"\n",
        "    \n",
        "    np.random.seed(seed)\n",
        "    n = 0\n",
        "    obstacles = []\n",
        "    while n != n_obstacles:\n",
        "        x, y = np.random.randint(low=0, high=maze_size[0]), np.random.randint(low=0, high=maze_size[1])\n",
        "        obstacle = (x,y)\n",
        "        if obstacle != start and obstacle != goal and not(obstacle in obstacles):\n",
        "            obstacles.append(obstacle)\n",
        "            maze[obstacle] = -1 # An obstacle is represented by -1 \n",
        "            n += 1\n",
        "\n",
        "    return obstacles"
      ]
    },
    {
      "cell_type": "code",
      "execution_count": null,
      "metadata": {
        "colab": {
          "base_uri": "https://localhost:8080/"
        },
        "id": "yPaypUiAKupF",
        "outputId": "8db603ac-f0eb-44c6-d3d6-126c9d6b598e"
      },
      "outputs": [
        {
          "output_type": "stream",
          "name": "stdout",
          "text": [
            "Obstacles:\n",
            " [(1, 1), (5, 9), (5, 7), (6, 9), (9, 6), (2, 3), (3, 3), (4, 0), (2, 5), (3, 1), (9, 9), (7, 4), (3, 0), (4, 8), (9, 1), (7, 7), (2, 6), (9, 2), (1, 5), (8, 3)]\n",
            "\n",
            "Maze: \n",
            " [[ 0.  0.  0.  0.  0.  0.  0.  0.  0.  0.]\n",
            " [ 0. -1.  0.  0.  0. -1.  0.  0.  0.  0.]\n",
            " [ 0.  0.  0. -1.  0. -1. -1.  0.  0.  0.]\n",
            " [-1. -1.  0. -1.  0.  0.  0.  0.  0.  0.]\n",
            " [-1.  0.  0.  0.  0.  0.  0.  0. -1.  0.]\n",
            " [ 0.  0.  0.  0.  0.  0.  0. -1.  0. -1.]\n",
            " [ 0.  0.  0.  0.  0.  0.  0.  0.  0. -1.]\n",
            " [ 0.  0.  0.  0. -1.  0.  0. -1.  0.  0.]\n",
            " [ 0.  0.  0. -1.  0.  0.  0.  0.  0.  0.]\n",
            " [ 0. -1. -1.  0.  0.  0. -1.  0. 10. -1.]]\n"
          ]
        }
      ],
      "source": [
        "# Generating the obstacles \n",
        "seed = 300\n",
        "obstacles = generate_obstacles(n_obstacles, seed)\n",
        "print(\"Obstacles:\\n\",obstacles)\n",
        "print(\"\\nMaze: \\n\",maze)"
      ]
    },
    {
      "cell_type": "code",
      "execution_count": null,
      "metadata": {
        "id": "tgs2hx1wJC3A"
      },
      "outputs": [],
      "source": [
        "def is_obstacle(pos):\n",
        "    \"\"\"\n",
        "    Checks if the cell at position pos contains an obstacle\n",
        "    pos: A list containing a coordinate\n",
        "    Returns True if there is an obstacle at that position.\n",
        "    \"\"\"\n",
        "    pos = tuple(pos)\n",
        "\n",
        "    \n",
        "    return (pos in obstacles)"
      ]
    },
    {
      "cell_type": "code",
      "execution_count": null,
      "metadata": {
        "id": "3V4bNca-VeAd"
      },
      "outputs": [],
      "source": [
        "def get_next_state(curr_state, action):\n",
        "    \"\"\"\n",
        "    Returns the state resulting from the action taken in the current state\n",
        "    curr_state: The current state of the environment in a vector form of shape (1, num_states)\n",
        "    action: The action to be taken by the agent. An integer between 0 and (num_actions - 1)\n",
        "    Returns the next state , the reward (resulting from the move) and wether or not the goal state has been reached. \n",
        "    \"\"\"\n",
        "\n",
        "    reward = 0   # Initialization\n",
        "    done = False\n",
        "    c_state = tf.reshape(curr_state, maze_size).numpy()\n",
        "\n",
        "    pos = np.where(c_state==1)\n",
        "    pos = [pos[0][0], pos[1][0]]\n",
        "\n",
        "\n",
        "    next_pos = pos.copy()\n",
        "    next_state = np.zeros(maze_size)\n",
        "\n",
        "    if action == LEFT: # Moving left\n",
        "        next_pos[1] = pos[1] - 1 \n",
        "    elif action == RIGHT: # Moving right\n",
        "        next_pos[1] = pos[1] + 1\n",
        "    elif action == UP: # Moving up\n",
        "        next_pos[0] = pos[0] - 1\n",
        "    elif action == DOWN: # Moving down\n",
        "        next_pos[0] = pos[0] + 1\n",
        "\n",
        "    l,c = maze_size\n",
        "    in_bound = (next_pos[0] >= 0) and (next_pos[1] >= 0) and (next_pos[0] <= l-1) and (next_pos[1] <= c-1)\n",
        "    not_obs = not(is_obstacle(next_pos))\n",
        "\n",
        "    if in_bound and not_obs:        \n",
        "        next_state[next_pos[0], next_pos[1]] = 1\n",
        "        next_state = next_state.flatten()\n",
        "        if tuple(next_pos) == goal:\n",
        "            reward = 10\n",
        "            done = True\n",
        "\n",
        "    else:\n",
        "        next_state = tf.squeeze(curr_state)\n",
        "        next_pos = pos\n",
        "        reward = -1\n",
        "        \n",
        "\n",
        "    \n",
        "    next_state = tf.expand_dims(next_state, 0)\n",
        "    next_state = tf.dtypes.cast(next_state, tf.float32)\n",
        "\n",
        "    return next_state, reward, done    "
      ]
    },
    {
      "cell_type": "code",
      "execution_count": null,
      "metadata": {
        "id": "c1GK_8X-yGpB"
      },
      "outputs": [],
      "source": [
        "def compute_returns(rewards_history):\n",
        "    \"\"\"\n",
        "    Computes the expected future discounted return\n",
        "    rewards_history: a list containing the rewards resulting for each move during an episode\n",
        "    Returns a list containing the returns value    \n",
        "    \"\"\"\n",
        "    \n",
        "    returns = []\n",
        "    discounted_sum = 0\n",
        "    for r in rewards_history[::-1]:\n",
        "        discounted_sum = r + gamma * discounted_sum\n",
        "        returns.insert(0, discounted_sum)\n",
        "    return returns"
      ]
    },
    {
      "cell_type": "code",
      "execution_count": null,
      "metadata": {
        "id": "M-gaG296qz4q"
      },
      "outputs": [],
      "source": [
        "def get_sample_action(action_probs):\n",
        "    \"\"\"\n",
        "    Samples an action according to a probability distribution\n",
        "    action_probs: Actions probability distribution\n",
        "    Returns the one hot encoding of the action chosen (which is a vector containing 1 at the index corresponding to the action taken and zero elsewhere).\n",
        "    \"\"\"\n",
        "\n",
        "    action = np.random.choice(num_actions, p=np.squeeze(action_probs))\n",
        "    # action = tf.squeeze(tf.random.categorical(tf.math.log(probs), 1))\n",
        "    # action_one_hot = tf.one_hot(action, depth=num_actions)\n",
        "    # action_one_hot = tf.expand_dims(action_one_hot, axis=0)\n",
        "\n",
        "    return action"
      ]
    },
    {
      "cell_type": "code",
      "execution_count": null,
      "metadata": {
        "colab": {
          "base_uri": "https://localhost:8080/"
        },
        "id": "dRFYfb_HsNJI",
        "outputId": "aa7c3e42-b4da-49c8-c5d5-39cff6a79f2b"
      },
      "outputs": [
        {
          "output_type": "stream",
          "name": "stdout",
          "text": [
            "Starting state:\n",
            " [[0. 0. 0. 0. 0. 0. 0. 0. 0. 0.]\n",
            " [1. 0. 0. 0. 0. 0. 0. 0. 0. 0.]\n",
            " [0. 0. 0. 0. 0. 0. 0. 0. 0. 0.]\n",
            " [0. 0. 0. 0. 0. 0. 0. 0. 0. 0.]\n",
            " [0. 0. 0. 0. 0. 0. 0. 0. 0. 0.]\n",
            " [0. 0. 0. 0. 0. 0. 0. 0. 0. 0.]\n",
            " [0. 0. 0. 0. 0. 0. 0. 0. 0. 0.]\n",
            " [0. 0. 0. 0. 0. 0. 0. 0. 0. 0.]\n",
            " [0. 0. 0. 0. 0. 0. 0. 0. 0. 0.]\n",
            " [0. 0. 0. 0. 0. 0. 0. 0. 0. 0.]]\n",
            "Action probabilities tf.Tensor([[0.1 0.2 0.1 0.6]], shape=(1, 4), dtype=float32)\n",
            "Action taken:  3\n",
            "Next state:\n",
            " [[0. 0. 0. 0. 0. 0. 0. 0. 0. 0.]\n",
            " [0. 0. 0. 0. 0. 0. 0. 0. 0. 0.]\n",
            " [1. 0. 0. 0. 0. 0. 0. 0. 0. 0.]\n",
            " [0. 0. 0. 0. 0. 0. 0. 0. 0. 0.]\n",
            " [0. 0. 0. 0. 0. 0. 0. 0. 0. 0.]\n",
            " [0. 0. 0. 0. 0. 0. 0. 0. 0. 0.]\n",
            " [0. 0. 0. 0. 0. 0. 0. 0. 0. 0.]\n",
            " [0. 0. 0. 0. 0. 0. 0. 0. 0. 0.]\n",
            " [0. 0. 0. 0. 0. 0. 0. 0. 0. 0.]\n",
            " [0. 0. 0. 0. 0. 0. 0. 0. 0. 0.]]\n"
          ]
        }
      ],
      "source": [
        "# Testing get_sample_action and get_next_step \n",
        "\n",
        "print(\"Starting state:\\n\",tf.reshape(start_state, maze_size).numpy())\n",
        "probs = tf.Variable([0.1, 0.2, 0.1, 0.6])\n",
        "probs = tf.expand_dims(probs, axis=0)\n",
        "print(\"Action probabilities\",probs)\n",
        "action = get_sample_action(probs)\n",
        "print(\"Action taken: \",action)\n",
        "a_state, _, _ = get_next_state(start_state, action)\n",
        "print(\"Next state:\\n\",tf.reshape(a_state, maze_size).numpy())"
      ]
    },
    {
      "cell_type": "markdown",
      "metadata": {
        "id": "Fdxep_GXQ4uw"
      },
      "source": [
        "# Defining the network architecture"
      ]
    },
    {
      "cell_type": "code",
      "execution_count": null,
      "metadata": {
        "colab": {
          "base_uri": "https://localhost:8080/",
          "height": 642
        },
        "id": "sLBq5dw76RUh",
        "outputId": "17ca500f-2811-456a-a7ff-dfb06a080386"
      },
      "outputs": [
        {
          "output_type": "stream",
          "name": "stdout",
          "text": [
            "Model: \"model_3\"\n",
            "__________________________________________________________________________________________________\n",
            " Layer (type)                   Output Shape         Param #     Connected to                     \n",
            "==================================================================================================\n",
            " input (InputLayer)             [(None, 100)]        0           []                               \n",
            "                                                                                                  \n",
            " dense_1 (Dense)                (None, 128)          12928       ['input[0][0]']                  \n",
            "                                                                                                  \n",
            " dense_2 (Dense)                (None, 128)          12928       ['input[0][0]']                  \n",
            "                                                                                                  \n",
            " output_action (Dense)          (None, 4)            516         ['dense_1[0][0]']                \n",
            "                                                                                                  \n",
            " output_critic (Dense)          (None, 1)            129         ['dense_2[0][0]']                \n",
            "                                                                                                  \n",
            "==================================================================================================\n",
            "Total params: 26,501\n",
            "Trainable params: 26,501\n",
            "Non-trainable params: 0\n",
            "__________________________________________________________________________________________________\n"
          ]
        },
        {
          "output_type": "execute_result",
          "data": {
            "text/plain": [
              "<IPython.core.display.Image object>"
            ],
            "image/png": "[encoded data removed]"
          },
          "metadata": {},
          "execution_count": 59
        }
      ],
      "source": [
        "inputs = tf.keras.layers.Input(shape=(num_states,), name='input')\n",
        "common = tf.keras.layers.Dense(128, activation=\"relu\", name='dense_1')(inputs)\n",
        "action = tf.keras.layers.Dense(num_actions, activation=\"softmax\", name='output_action')(common)\n",
        "x = tf.keras.layers.Dense(128, activation='relu', name='dense_2')(inputs)\n",
        "critic = tf.keras.layers.Dense(1, name='output_critic')(x)\n",
        "\n",
        "model = tf.keras.Model(inputs=inputs, outputs=[action, critic])\n",
        "model.summary()\n",
        "tf.keras.utils.plot_model(model, show_shapes=True)"
      ]
    },
    {
      "cell_type": "markdown",
      "metadata": {
        "id": "xIS16RX-6RUh"
      },
      "source": [
        "## Training\n"
      ]
    },
    {
      "cell_type": "code",
      "execution_count": null,
      "metadata": {
        "colab": {
          "base_uri": "https://localhost:8080/"
        },
        "id": "arxv8Car6RUi",
        "outputId": "5b785f2a-ce31-47df-b4d5-5af5a3c3659c"
      },
      "outputs": [
        {
          "output_type": "stream",
          "name": "stdout",
          "text": [
            "Error 4159.196 at episode 10\n",
            "Error 150.878 at episode 20\n",
            "Error 290.255 at episode 30\n",
            "Error 1902.439 at episode 40\n",
            "Error 720.726 at episode 50\n",
            "Error 669.627 at episode 60\n",
            "Error 360.183 at episode 70\n",
            "Error 1295.455 at episode 80\n",
            "Error 615.693 at episode 90\n",
            "Error 194.406 at episode 100\n",
            "Error 297.057 at episode 110\n",
            "Error 261.060 at episode 120\n",
            "Error 136.367 at episode 130\n",
            "Error 1237.184 at episode 140\n",
            "Error 666.445 at episode 150\n",
            "Error 460.645 at episode 160\n",
            "Error 521.693 at episode 170\n",
            "Error 402.781 at episode 180\n",
            "Error 36.091 at episode 190\n",
            "Error 108.596 at episode 200\n",
            "Error 615.186 at episode 210\n",
            "Error 404.694 at episode 220\n",
            "Error 54.782 at episode 230\n",
            "Error 339.313 at episode 240\n",
            "Error 152.029 at episode 250\n"
          ]
        }
      ],
      "source": [
        "optimizer = tf.keras.optimizers.Adam(learning_rate=3e-4)\n",
        "mse_loss = tf.keras.losses.MeanSquaredError()\n",
        "action_probs_history = []\n",
        "critic_value_history = []\n",
        "rewards_history = []\n",
        "mse = []\n",
        "loss_actor_history = []\n",
        "loss_critic_history = []\n",
        "steps_per_episode = []\n",
        "episode_count = 0\n",
        "epochs = 5_000 # Represents the number of episodes for which the model is trained\n",
        "\n",
        "for i in range(epochs):  # Run until solved\n",
        "    state = start_state.copy()\n",
        "    state = tf.convert_to_tensor(state, dtype=tf.float32)\n",
        "    state = tf.expand_dims(state, 0)\n",
        "\n",
        "    with tf.GradientTape() as tape:\n",
        "        step_count = 0\n",
        "\n",
        "        for timestep in range(1, max_steps_per_episode):\n",
        "\n",
        "            action_probs, critic_value = model(state)\n",
        "            critic_value_history.append(critic_value[0, 0])\n",
        "\n",
        "            # Randomly selecting an action from the probability distribution\n",
        "            action = np.random.choice(num_actions, p=np.squeeze(action_probs))\n",
        "            action_probs_history.append(tf.math.log(action_probs[0, action]))\n",
        "\n",
        "            state, reward, done = get_next_state(state, action)\n",
        "            rewards_history.append(reward)\n",
        "            step_count += 1\n",
        "\n",
        "            if done:\n",
        "                steps_per_episode.append(step_count)\n",
        "                break\n",
        "\n",
        "\n",
        "        # Returns computation\n",
        "        returns = compute_returns(rewards_history)\n",
        "\n",
        "        # Normalize\n",
        "        returns = np.array(returns)\n",
        "        returns = (returns - np.mean(returns)) / (np.std(returns))\n",
        "        returns = returns.tolist(); returns_ = returns.copy()\n",
        "\n",
        "        # Computing losses in order to compute gradients and update our network\n",
        "        history = zip(action_probs_history, critic_value_history, returns)\n",
        "        actor_losses = []\n",
        "        critic_losses = []\n",
        "        for log_prob, value, ret in history:\n",
        "            \n",
        "            actor_losses.append(-log_prob * ret)  # actor loss\n",
        "\n",
        "            critic_losses.append(\n",
        "                mse_loss(tf.expand_dims(value, 0), tf.expand_dims(ret, 0))\n",
        "            ) #critic loss\n",
        "\n",
        "\n",
        "        # Gradients computation and model update\n",
        "        loss_value = sum(actor_losses) + sum(critic_losses)\n",
        "        grads = tape.gradient(loss_value, model.trainable_variables)\n",
        "        optimizer.apply_gradients(zip(grads, model.trainable_variables))\n",
        "\n",
        "        # Storing loss values\n",
        "        loss_actor_history.append(sum(actor_losses).numpy())\n",
        "        loss_critic_history.append(sum(critic_losses).numpy())\n",
        "\n",
        "\n",
        "        action_probs_history.clear()\n",
        "        critic_value_history.clear()\n",
        "        rewards_history.clear()\n",
        "\n",
        "  \n",
        "    episode_count += 1\n",
        "    if episode_count % 10 == 0:\n",
        "        print(\"Error {:.3f} at episode {}\".format(loss_critic_history[-1], episode_count))\n"
      ]
    },
    {
      "cell_type": "markdown",
      "source": [
        "# Plotting error curves"
      ],
      "metadata": {
        "id": "yAjs7MVcnCJv"
      }
    },
    {
      "cell_type": "code",
      "execution_count": null,
      "metadata": {
        "colab": {
          "base_uri": "https://localhost:8080/",
          "height": 312
        },
        "id": "LRvSBD1FAsKB",
        "outputId": "4e6db105-c612-491e-985a-04c4f8b21e99"
      },
      "outputs": [
        {
          "output_type": "execute_result",
          "data": {
            "text/plain": [
              "Text(0, 0.5, 'loss')"
            ]
          },
          "metadata": {},
          "execution_count": 78
        },
        {
          "output_type": "display_data",
          "data": {
            "text/plain": [
              "<Figure size 432x288 with 1 Axes>"
            ],
            "image/png": "[encoded data removed]"
          },
          "metadata": {
            "needs_background": "light"
          }
        }
      ],
      "source": [
        "# Loss plot\n",
        "\n",
        "plt.plot(range(1,len(loss_actor_history)+1), loss_actor_history)\n",
        "plt.title(\"Actor loss plot\")\n",
        "plt.xlabel(\"episodes\")\n",
        "plt.ylabel(\"loss\")"
      ]
    },
    {
      "cell_type": "code",
      "source": [
        "# Loss plot\n",
        "\n",
        "plt.plot(range(1,len(loss_critic_history)+1), loss_critic_history)\n",
        "plt.title(\"Critic Loss plot\")\n",
        "plt.xlabel(\"episodes\")\n",
        "_ = plt.ylabel(\"loss\")"
      ],
      "metadata": {
        "colab": {
          "base_uri": "https://localhost:8080/",
          "height": 295
        },
        "id": "zJ2H9bHyBqua",
        "outputId": "44e2d277-0b62-4ed7-f726-e52b21e28f2c"
      },
      "execution_count": null,
      "outputs": [
        {
          "output_type": "display_data",
          "data": {
            "text/plain": [
              "<Figure size 432x288 with 1 Axes>"
            ],
            "image/png": "[encoded data removed]"
          },
          "metadata": {
            "needs_background": "light"
          }
        }
      ]
    },
    {
      "cell_type": "code",
      "execution_count": null,
      "metadata": {
        "colab": {
          "base_uri": "https://localhost:8080/",
          "height": 295
        },
        "id": "cq8kZIwvAupp",
        "outputId": "b7a51051-eabb-423c-f586-cbcda57a43d7"
      },
      "outputs": [
        {
          "output_type": "display_data",
          "data": {
            "text/plain": [
              "<Figure size 432x288 with 1 Axes>"
            ],
            "image/png": "[encoded data removed]"
          },
          "metadata": {
            "needs_background": "light"
          }
        }
      ],
      "source": [
        " # Steps to go plot\n",
        "\n",
        "plt.plot(range(1,len(steps_per_episode)+1), steps_per_episode)\n",
        "plt.title(\"Steps-to-goal plot\")\n",
        "plt.xlabel(\"episodes\")\n",
        "_ = plt.ylabel(\"number of steps\")"
      ]
    },
    {
      "cell_type": "code",
      "execution_count": null,
      "metadata": {
        "colab": {
          "base_uri": "https://localhost:8080/"
        },
        "id": "V_ucUeLigj3F",
        "outputId": "76c38fef-ee06-427a-948c-a8f16bd7073c"
      },
      "outputs": [
        {
          "output_type": "stream",
          "name": "stdout",
          "text": [
            "Mean steps-to-go for last 50 episodes 17.52\n"
          ]
        }
      ],
      "source": [
        "mean = np.mean(steps_per_episode[-50:])\n",
        "print(\"Mean steps-to-go for last 50 episodes\", mean)"
      ]
    },
    {
      "cell_type": "markdown",
      "source": [
        "# Testing the trained model by simulating agent movements in the maze"
      ],
      "metadata": {
        "id": "Yac8JyJInJBv"
      }
    },
    {
      "cell_type": "code",
      "execution_count": null,
      "metadata": {
        "id": "47D72NYbl3yR"
      },
      "outputs": [],
      "source": [
        "def get_rect(maze, i,j):\n",
        "    \"\"\"\n",
        "    Creates a tile used to render the maze\n",
        "    maze: The maze layout (numpy array)\n",
        "    i,j: The row and column numbers locating a tile\n",
        "    Returns an artist object used to render a tile in the maze\n",
        "\n",
        "    \"\"\"\n",
        "\n",
        "\n",
        "    elt = maze[i][j]\n",
        "    rect = None\n",
        "\n",
        "\n",
        "    if (i,j) == start and elt == 1: # Checking if the agent is at the start position\n",
        "        rect = patches.Rectangle((j, maze_size[0] - i - 1), height=1, width=1, color='#800080')         \n",
        "        return rect\n",
        "    elif (i,j) == start and elt == 0: # Checking if the empty cell is the start state \n",
        "        rect = patches.Rectangle((j, maze_size[0] - i - 1), height=1, width=1, color='red') \n",
        "        return rect\n",
        "    elif elt == 11: # Checking if the agent has reached the goal position\n",
        "        rect = patches.Rectangle((j, maze_size[0] - i - 1), height=1, width=1, color='#00FFFF')\n",
        "        return rect\n",
        "\n",
        "    if elt == 0:\n",
        "        rect = patches.Rectangle((j, maze_size[0] - i - 1), height=1, width=1, color='white')\n",
        "    elif elt == -1:\n",
        "        rect = patches.Rectangle((j, maze_size[0] - i - 1), height=1, width=1, color='black')\n",
        "    elif elt == 1:\n",
        "        rect = patches.Rectangle((j, maze_size[0] - i - 1), height=1, width=1, color='blue')\n",
        "    else:\n",
        "        rect = patches.Rectangle((j, maze_size[0] - i - 1), height=1, width=1, color='green')\n",
        "\n",
        "\n",
        "    \n",
        "    return rect"
      ]
    },
    {
      "cell_type": "code",
      "execution_count": null,
      "metadata": {
        "id": "qsnEqTN4Ozj7"
      },
      "outputs": [],
      "source": [
        "def render_maze(maze, step):\n",
        "    \"\"\"\n",
        "    Renders the maze at each step of the agent's movement\n",
        "    maze: The maze layout\n",
        "    step: The number of steps taken by the agent\n",
        "    \"\"\"\n",
        "    ax = plt.axes()\n",
        "    _ = ax.set(xlim=(0,maze_size[1]), ylim=(0,maze_size[0]), xticks=np.arange(maze_size[1]+1), yticks=np.arange(maze_size[0]+1))\n",
        "    for i in range(11):\n",
        "        plt.vlines(i, 0, 10)\n",
        "        plt.hlines(i, 0, 10)\n",
        "\n",
        "    \n",
        "    for i in range(maze_size[0]):\n",
        "        for j in range(maze_size[1]):\n",
        "            rect = get_rect(maze, i,j)\n",
        "            ax.add_patch(rect)\n",
        "\n",
        "    ax.axes.xaxis.set_ticks([])\n",
        "    ax.axes.yaxis.set_ticks([])\n",
        "    plt.savefig(\"frame\" + str(step).zfill(3) + \".png\")\n",
        "    plt.show()\n",
        "    "
      ]
    },
    {
      "cell_type": "code",
      "execution_count": null,
      "metadata": {
        "id": "cDQnomXpvhGT"
      },
      "outputs": [],
      "source": [
        "def simulate_grid_world(model, maze, start_state):\n",
        "    \"\"\"\n",
        "    Simulates the movements of the agent given the trained model and the maze layout\n",
        "    In the maze, 1 represents the agent and 10 the goal\n",
        "    model: The trained model\n",
        "    maze: The maze layout\n",
        "    start_state: The agent starting state\n",
        "    \"\"\"\n",
        "    state = start_state.copy()\n",
        "    state = tf.convert_to_tensor(state, dtype=tf.float32)\n",
        "    state = tf.expand_dims(state, 0)\n",
        "    state_reshaped = tf.reshape(state, maze_size).numpy()\n",
        "    maze_ = state_reshaped + maze\n",
        "    step_count = 0\n",
        "    rewards = []\n",
        "    movements = [\"LEFT\", \"RIGHT\", \"UP\", \"DOWN\"]\n",
        "\n",
        "    render_maze(maze_, step_count)\n",
        "    while True:\n",
        "        action_probs, _ = model(state)\n",
        "        action = get_sample_action(action_probs)\n",
        "        print(\"Actions probability distribution & action taken\\n\",action_probs.numpy(), movements[action])\n",
        "        print(\"\\n\")\n",
        "        state, reward, done = get_next_state(state, action)\n",
        "        rewards.append(reward)\n",
        "\n",
        "        state_reshaped = tf.reshape(state, maze_size).numpy()\n",
        "        maze_ = state_reshaped + maze\n",
        "\n",
        "        step_count += 1\n",
        "        render_maze(maze_, step_count)\n",
        "        if done:\n",
        "            break\n",
        "\n",
        "    print(\"Number of steps-to-goal: \", step_count)"
      ]
    },
    {
      "cell_type": "code",
      "execution_count": null,
      "metadata": {
        "colab": {
          "base_uri": "https://localhost:8080/"
        },
        "id": "u8l8-POb4H5y",
        "outputId": "829874c4-b141-449b-9b19-1640cf69adee"
      },
      "outputs": [
        {
          "output_type": "stream",
          "name": "stdout",
          "text": [
            "rm: cannot remove 'frame*': No such file or directory\n",
            "model.png  sample_data\n"
          ]
        }
      ],
      "source": [
        "# Removing previous frames from the disk\n",
        "!rm frame*\n",
        "!ls"
      ]
    },
    {
      "cell_type": "code",
      "execution_count": null,
      "metadata": {
        "colab": {
          "base_uri": "https://localhost:8080/",
          "height": 1000
        },
        "id": "EZXBeEXoxJR3",
        "outputId": "7c96f73d-ef4c-4549-de71-1e308ddbad59"
      },
      "outputs": [
        {
          "output_type": "display_data",
          "data": {
            "text/plain": [
              "<Figure size 432x288 with 1 Axes>"
            ],
            "image/png": "[encoded data removed]"
          },
          "metadata": {}
        },
        {
          "output_type": "stream",
          "name": "stdout",
          "text": [
            "Actions probability distribution & action taken\n",
            " [[0.01841799 0.03985515 0.04193104 0.8997958 ]] DOWN\n",
            "\n",
            "\n"
          ]
        },
        {
          "output_type": "display_data",
          "data": {
            "text/plain": [
              "<Figure size 432x288 with 1 Axes>"
            ],
            "image/png": "[encoded data removed]"
          },
          "metadata": {}
        },
        {
          "output_type": "stream",
          "name": "stdout",
          "text": [
            "Actions probability distribution & action taken\n",
            " [[0.01886266 0.87454087 0.0550426  0.05155395]] RIGHT\n",
            "\n",
            "\n"
          ]
        },
        {
          "output_type": "display_data",
          "data": {
            "text/plain": [
              "<Figure size 432x288 with 1 Axes>"
            ],
            "image/png": "[encoded data removed]"
          },
          "metadata": {}
        },
        {
          "output_type": "stream",
          "name": "stdout",
          "text": [
            "Actions probability distribution & action taken\n",
            " [[0.03845828 0.87879354 0.03135142 0.05139681]] RIGHT\n",
            "\n",
            "\n"
          ]
        },
        {
          "output_type": "display_data",
          "data": {
            "text/plain": [
              "<Figure size 432x288 with 1 Axes>"
            ],
            "image/png": "[encoded data removed]"
          },
          "metadata": {}
        },
        {
          "output_type": "stream",
          "name": "stdout",
          "text": [
            "Actions probability distribution & action taken\n",
            " [[0.01147215 0.01921531 0.00926606 0.9600465 ]] DOWN\n",
            "\n",
            "\n"
          ]
        },
        {
          "output_type": "display_data",
          "data": {
            "text/plain": [
              "<Figure size 432x288 with 1 Axes>"
            ],
            "image/png": "[encoded data removed]"
          },
          "metadata": {}
        },
        {
          "output_type": "stream",
          "name": "stdout",
          "text": [
            "Actions probability distribution & action taken\n",
            " [[0.00675321 0.01461589 0.01150024 0.96713066]] DOWN\n",
            "\n",
            "\n"
          ]
        },
        {
          "output_type": "display_data",
          "data": {
            "text/plain": [
              "<Figure size 432x288 with 1 Axes>"
            ],
            "image/png": "[encoded data removed]"
          },
          "metadata": {}
        },
        {
          "output_type": "stream",
          "name": "stdout",
          "text": [
            "Actions probability distribution & action taken\n",
            " [[0.02586724 0.46240175 0.03848081 0.47325033]] DOWN\n",
            "\n",
            "\n"
          ]
        },
        {
          "output_type": "display_data",
          "data": {
            "text/plain": [
              "<Figure size 432x288 with 1 Axes>"
            ],
            "image/png": "[encoded data removed]"
          },
          "metadata": {}
        },
        {
          "output_type": "stream",
          "name": "stdout",
          "text": [
            "Actions probability distribution & action taken\n",
            " [[0.01734208 0.7990036  0.02461369 0.1590406 ]] RIGHT\n",
            "\n",
            "\n"
          ]
        },
        {
          "output_type": "display_data",
          "data": {
            "text/plain": [
              "<Figure size 432x288 with 1 Axes>"
            ],
            "image/png": "[encoded data removed]"
          },
          "metadata": {}
        },
        {
          "output_type": "stream",
          "name": "stdout",
          "text": [
            "Actions probability distribution & action taken\n",
            " [[0.02098709 0.8105162  0.01821813 0.15027867]] RIGHT\n",
            "\n",
            "\n"
          ]
        },
        {
          "output_type": "display_data",
          "data": {
            "text/plain": [
              "<Figure size 432x288 with 1 Axes>"
            ],
            "image/png": "[encoded data removed]"
          },
          "metadata": {}
        },
        {
          "output_type": "stream",
          "name": "stdout",
          "text": [
            "Actions probability distribution & action taken\n",
            " [[0.01599717 0.26413608 0.01451596 0.7053508 ]] DOWN\n",
            "\n",
            "\n"
          ]
        },
        {
          "output_type": "display_data",
          "data": {
            "text/plain": [
              "<Figure size 432x288 with 1 Axes>"
            ],
            "image/png": "[encoded data removed]"
          },
          "metadata": {}
        },
        {
          "output_type": "stream",
          "name": "stdout",
          "text": [
            "Actions probability distribution & action taken\n",
            " [[0.0028212  0.9856937  0.00602577 0.00545949]] RIGHT\n",
            "\n",
            "\n"
          ]
        },
        {
          "output_type": "display_data",
          "data": {
            "text/plain": [
              "<Figure size 432x288 with 1 Axes>"
            ],
            "image/png": "[encoded data removed]"
          },
          "metadata": {}
        },
        {
          "output_type": "stream",
          "name": "stdout",
          "text": [
            "Actions probability distribution & action taken\n",
            " [[0.00600009 0.09027463 0.00902053 0.89470476]] DOWN\n",
            "\n",
            "\n"
          ]
        },
        {
          "output_type": "display_data",
          "data": {
            "text/plain": [
              "<Figure size 432x288 with 1 Axes>"
            ],
            "image/png": "[encoded data removed]"
          },
          "metadata": {}
        },
        {
          "output_type": "stream",
          "name": "stdout",
          "text": [
            "Actions probability distribution & action taken\n",
            " [[0.007569   0.59327203 0.01576506 0.3833939 ]] RIGHT\n",
            "\n",
            "\n"
          ]
        },
        {
          "output_type": "display_data",
          "data": {
            "text/plain": [
              "<Figure size 432x288 with 1 Axes>"
            ],
            "image/png": "[encoded data removed]"
          },
          "metadata": {}
        },
        {
          "output_type": "stream",
          "name": "stdout",
          "text": [
            "Actions probability distribution & action taken\n",
            " [[0.00712345 0.01172478 0.00611791 0.9750338 ]] DOWN\n",
            "\n",
            "\n"
          ]
        },
        {
          "output_type": "display_data",
          "data": {
            "text/plain": [
              "<Figure size 432x288 with 1 Axes>"
            ],
            "image/png": "[encoded data removed]"
          },
          "metadata": {}
        },
        {
          "output_type": "stream",
          "name": "stdout",
          "text": [
            "Actions probability distribution & action taken\n",
            " [[0.00233128 0.9829268  0.00412842 0.0106135 ]] RIGHT\n",
            "\n",
            "\n"
          ]
        },
        {
          "output_type": "display_data",
          "data": {
            "text/plain": [
              "<Figure size 432x288 with 1 Axes>"
            ],
            "image/png": "[encoded data removed]"
          },
          "metadata": {}
        },
        {
          "output_type": "stream",
          "name": "stdout",
          "text": [
            "Actions probability distribution & action taken\n",
            " [[0.00503847 0.08304898 0.00541293 0.9064996 ]] DOWN\n",
            "\n",
            "\n"
          ]
        },
        {
          "output_type": "display_data",
          "data": {
            "text/plain": [
              "<Figure size 432x288 with 1 Axes>"
            ],
            "image/png": "[encoded data removed]"
          },
          "metadata": {}
        },
        {
          "output_type": "stream",
          "name": "stdout",
          "text": [
            "Actions probability distribution & action taken\n",
            " [[0.0064535  0.9606674  0.00584606 0.02703315]] RIGHT\n",
            "\n",
            "\n"
          ]
        },
        {
          "output_type": "display_data",
          "data": {
            "text/plain": [
              "<Figure size 432x288 with 1 Axes>"
            ],
            "image/png": "[encoded data removed]"
          },
          "metadata": {}
        },
        {
          "output_type": "stream",
          "name": "stdout",
          "text": [
            "Number of steps-to-goal:  16\n"
          ]
        }
      ],
      "source": [
        "# Defining the start state\n",
        "a_state = np.zeros(maze_size)\n",
        "a_state[0][1] = 1\n",
        "a_state = a_state.flatten()\n",
        "simulate_grid_world(model, maze, start_state)"
      ]
    },
    {
      "cell_type": "markdown",
      "source": [
        "# Creating a gif file of the agent movements"
      ],
      "metadata": {
        "id": "E2a9hfvunifT"
      }
    },
    {
      "cell_type": "code",
      "execution_count": null,
      "metadata": {
        "id": "UPVPtO_10MTR"
      },
      "outputs": [],
      "source": [
        "def create_gif():\n",
        "    \"\"\"\n",
        "    # Source: https://pythonprogramming.altervista.org/png-to-gif/?doing_wp_cron=1650566310.4698081016540527343750\n",
        "    Creates a gif of the movements of the agent in the maze\n",
        "    \"\"\"\n",
        "    from PIL import Image\n",
        "    import glob\n",
        "    \n",
        "    # Creating frames\n",
        "    frames = []\n",
        "    imgs = glob.glob(\"frame*.png\")\n",
        "    imgs = sorted(imgs)\n",
        "    for i in imgs:\n",
        "        new_frame = Image.open(i)\n",
        "        frames.append(new_frame)\n",
        "    \n",
        "    # Save frames into a GIF file\n",
        "    frames[0].save('png_to_gif.gif', format='GIF',\n",
        "                append_images=frames[1:],\n",
        "                save_all=True,\n",
        "                duration=300, loop=0)"
      ]
    },
    {
      "cell_type": "code",
      "execution_count": null,
      "metadata": {
        "id": "orPxyVdd1ITI"
      },
      "outputs": [],
      "source": [
        "create_gif()"
      ]
    }
  ],
  "metadata": {
    "colab": {
      "collapsed_sections": [],
      "name": "Actor critic implementation",
      "provenance": []
    },
    "kernelspec": {
      "display_name": "Python 3",
      "language": "python",
      "name": "python3"
    },
    "language_info": {
      "codemirror_mode": {
        "name": "ipython",
        "version": 3
      },
      "file_extension": ".py",
      "mimetype": "text/x-python",
      "name": "python",
      "nbconvert_exporter": "python",
      "pygments_lexer": "ipython3",
      "version": "3.7.0"
    }
  },
  "nbformat": 4,
  "nbformat_minor": 0
}